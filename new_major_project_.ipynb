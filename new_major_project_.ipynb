{
  "nbformat": 4,
  "nbformat_minor": 0,
  "metadata": {
    "colab": {
      "name": "new major project .ipynb",
      "provenance": [],
      "include_colab_link": true
    },
    "kernelspec": {
      "name": "python3",
      "display_name": "Python 3"
    },
    "language_info": {
      "name": "python"
    },
    "widgets": {
      "application/vnd.jupyter.widget-state+json": {
        "bcf91b0726264d9e9d9e1322a090fccc": {
          "model_module": "@jupyter-widgets/controls",
          "model_name": "HBoxModel",
          "state": {
            "_view_name": "HBoxView",
            "_dom_classes": [],
            "_model_name": "HBoxModel",
            "_view_module": "@jupyter-widgets/controls",
            "_model_module_version": "1.5.0",
            "_view_count": null,
            "_view_module_version": "1.5.0",
            "box_style": "",
            "layout": "IPY_MODEL_f7d8c0c7ee5a42dea2553fa023eac58d",
            "_model_module": "@jupyter-widgets/controls",
            "children": [
              "IPY_MODEL_500df00f7ed64a18893c89cb03970ea3",
              "IPY_MODEL_c601d523be1a4a6885b5373d0b1bfb90"
            ]
          }
        },
        "f7d8c0c7ee5a42dea2553fa023eac58d": {
          "model_module": "@jupyter-widgets/base",
          "model_name": "LayoutModel",
          "state": {
            "_view_name": "LayoutView",
            "grid_template_rows": null,
            "right": null,
            "justify_content": null,
            "_view_module": "@jupyter-widgets/base",
            "overflow": null,
            "_model_module_version": "1.2.0",
            "_view_count": null,
            "flex_flow": null,
            "width": null,
            "min_width": null,
            "border": null,
            "align_items": null,
            "bottom": null,
            "_model_module": "@jupyter-widgets/base",
            "top": null,
            "grid_column": null,
            "overflow_y": null,
            "overflow_x": null,
            "grid_auto_flow": null,
            "grid_area": null,
            "grid_template_columns": null,
            "flex": null,
            "_model_name": "LayoutModel",
            "justify_items": null,
            "grid_row": null,
            "max_height": null,
            "align_content": null,
            "visibility": null,
            "align_self": null,
            "height": null,
            "min_height": null,
            "padding": null,
            "grid_auto_rows": null,
            "grid_gap": null,
            "max_width": null,
            "order": null,
            "_view_module_version": "1.2.0",
            "grid_template_areas": null,
            "object_position": null,
            "object_fit": null,
            "grid_auto_columns": null,
            "margin": null,
            "display": null,
            "left": null
          }
        },
        "500df00f7ed64a18893c89cb03970ea3": {
          "model_module": "@jupyter-widgets/controls",
          "model_name": "FloatProgressModel",
          "state": {
            "_view_name": "ProgressView",
            "style": "IPY_MODEL_03edb43766b341dca92b4823d7d8c36d",
            "_dom_classes": [],
            "description": "100%",
            "_model_name": "FloatProgressModel",
            "bar_style": "success",
            "max": 18,
            "_view_module": "@jupyter-widgets/controls",
            "_model_module_version": "1.5.0",
            "value": 18,
            "_view_count": null,
            "_view_module_version": "1.5.0",
            "orientation": "horizontal",
            "min": 0,
            "description_tooltip": null,
            "_model_module": "@jupyter-widgets/controls",
            "layout": "IPY_MODEL_cb091e9d31ef452886c24d11325ffe96"
          }
        },
        "c601d523be1a4a6885b5373d0b1bfb90": {
          "model_module": "@jupyter-widgets/controls",
          "model_name": "HTMLModel",
          "state": {
            "_view_name": "HTMLView",
            "style": "IPY_MODEL_85511b9d53f34d639b231c9296f8d97b",
            "_dom_classes": [],
            "description": "",
            "_model_name": "HTMLModel",
            "placeholder": "​",
            "_view_module": "@jupyter-widgets/controls",
            "_model_module_version": "1.5.0",
            "value": " 18/18 [15:45&lt;00:00, 52.54s/it]",
            "_view_count": null,
            "_view_module_version": "1.5.0",
            "description_tooltip": null,
            "_model_module": "@jupyter-widgets/controls",
            "layout": "IPY_MODEL_b194a423cf9e486c8f7572c411a8aac3"
          }
        },
        "03edb43766b341dca92b4823d7d8c36d": {
          "model_module": "@jupyter-widgets/controls",
          "model_name": "ProgressStyleModel",
          "state": {
            "_view_name": "StyleView",
            "_model_name": "ProgressStyleModel",
            "description_width": "initial",
            "_view_module": "@jupyter-widgets/base",
            "_model_module_version": "1.5.0",
            "_view_count": null,
            "_view_module_version": "1.2.0",
            "bar_color": null,
            "_model_module": "@jupyter-widgets/controls"
          }
        },
        "cb091e9d31ef452886c24d11325ffe96": {
          "model_module": "@jupyter-widgets/base",
          "model_name": "LayoutModel",
          "state": {
            "_view_name": "LayoutView",
            "grid_template_rows": null,
            "right": null,
            "justify_content": null,
            "_view_module": "@jupyter-widgets/base",
            "overflow": null,
            "_model_module_version": "1.2.0",
            "_view_count": null,
            "flex_flow": null,
            "width": null,
            "min_width": null,
            "border": null,
            "align_items": null,
            "bottom": null,
            "_model_module": "@jupyter-widgets/base",
            "top": null,
            "grid_column": null,
            "overflow_y": null,
            "overflow_x": null,
            "grid_auto_flow": null,
            "grid_area": null,
            "grid_template_columns": null,
            "flex": null,
            "_model_name": "LayoutModel",
            "justify_items": null,
            "grid_row": null,
            "max_height": null,
            "align_content": null,
            "visibility": null,
            "align_self": null,
            "height": null,
            "min_height": null,
            "padding": null,
            "grid_auto_rows": null,
            "grid_gap": null,
            "max_width": null,
            "order": null,
            "_view_module_version": "1.2.0",
            "grid_template_areas": null,
            "object_position": null,
            "object_fit": null,
            "grid_auto_columns": null,
            "margin": null,
            "display": null,
            "left": null
          }
        },
        "85511b9d53f34d639b231c9296f8d97b": {
          "model_module": "@jupyter-widgets/controls",
          "model_name": "DescriptionStyleModel",
          "state": {
            "_view_name": "StyleView",
            "_model_name": "DescriptionStyleModel",
            "description_width": "",
            "_view_module": "@jupyter-widgets/base",
            "_model_module_version": "1.5.0",
            "_view_count": null,
            "_view_module_version": "1.2.0",
            "_model_module": "@jupyter-widgets/controls"
          }
        },
        "b194a423cf9e486c8f7572c411a8aac3": {
          "model_module": "@jupyter-widgets/base",
          "model_name": "LayoutModel",
          "state": {
            "_view_name": "LayoutView",
            "grid_template_rows": null,
            "right": null,
            "justify_content": null,
            "_view_module": "@jupyter-widgets/base",
            "overflow": null,
            "_model_module_version": "1.2.0",
            "_view_count": null,
            "flex_flow": null,
            "width": null,
            "min_width": null,
            "border": null,
            "align_items": null,
            "bottom": null,
            "_model_module": "@jupyter-widgets/base",
            "top": null,
            "grid_column": null,
            "overflow_y": null,
            "overflow_x": null,
            "grid_auto_flow": null,
            "grid_area": null,
            "grid_template_columns": null,
            "flex": null,
            "_model_name": "LayoutModel",
            "justify_items": null,
            "grid_row": null,
            "max_height": null,
            "align_content": null,
            "visibility": null,
            "align_self": null,
            "height": null,
            "min_height": null,
            "padding": null,
            "grid_auto_rows": null,
            "grid_gap": null,
            "max_width": null,
            "order": null,
            "_view_module_version": "1.2.0",
            "grid_template_areas": null,
            "object_position": null,
            "object_fit": null,
            "grid_auto_columns": null,
            "margin": null,
            "display": null,
            "left": null
          }
        }
      }
    }
  },
  "cells": [
    {
      "cell_type": "markdown",
      "metadata": {
        "id": "view-in-github",
        "colab_type": "text"
      },
      "source": [
        "<a href=\"https://colab.research.google.com/github/BharathKrishna29/major-project/blob/main/new_major_project_.ipynb\" target=\"_parent\"><img src=\"https://colab.research.google.com/assets/colab-badge.svg\" alt=\"Open In Colab\"/></a>"
      ]
    },
    {
      "cell_type": "code",
      "metadata": {
        "id": "U2q5HKbou8m_"
      },
      "source": [
        "import pandas as pd\n",
        "df = pd.read_csv('/content/covid_19_data.csv')\n",
        "df.head()"
      ],
      "execution_count": null,
      "outputs": []
    },
    {
      "cell_type": "code",
      "metadata": {
        "id": "0x9tdzil3Cue"
      },
      "source": [
        "df['ObservationDate'] = pd.to_datetime(df['ObservationDate'])\n",
        "df['Last Update'] = pd.to_datetime(df['Last Update'])"
      ],
      "execution_count": null,
      "outputs": []
    },
    {
      "cell_type": "code",
      "metadata": {
        "colab": {
          "base_uri": "https://localhost:8080/",
          "height": 614
        },
        "id": "8jtZSRPxMCxc",
        "outputId": "8e72e299-d592-4c4c-8b05-289d09c34f9d"
      },
      "source": [
        "#gatting usa data for doing tablau part \n",
        "df_x = df[df['Country/Region'] == 'US']\n",
        "df_x.head()\n",
        "df_x.to_csv('USA_data.csv',index=False)\n",
        "import numpy as np\n",
        "np.min(df_x['Confirmed'])\n",
        "df_x.loc[df['Confirmed'] == 0.0]"
      ],
      "execution_count": null,
      "outputs": [
        {
          "output_type": "execute_result",
          "data": {
            "text/html": [
              "<div>\n",
              "<style scoped>\n",
              "    .dataframe tbody tr th:only-of-type {\n",
              "        vertical-align: middle;\n",
              "    }\n",
              "\n",
              "    .dataframe tbody tr th {\n",
              "        vertical-align: top;\n",
              "    }\n",
              "\n",
              "    .dataframe thead th {\n",
              "        text-align: right;\n",
              "    }\n",
              "</style>\n",
              "<table border=\"1\" class=\"dataframe\">\n",
              "  <thead>\n",
              "    <tr style=\"text-align: right;\">\n",
              "      <th></th>\n",
              "      <th>SNo</th>\n",
              "      <th>ObservationDate</th>\n",
              "      <th>Province/State</th>\n",
              "      <th>Country/Region</th>\n",
              "      <th>Last Update</th>\n",
              "      <th>Confirmed</th>\n",
              "      <th>Deaths</th>\n",
              "      <th>Recovered</th>\n",
              "    </tr>\n",
              "  </thead>\n",
              "  <tbody>\n",
              "    <tr>\n",
              "      <th>2348</th>\n",
              "      <td>2349</td>\n",
              "      <td>2020-02-24</td>\n",
              "      <td>Lackland, TX (From Diamond Princess)</td>\n",
              "      <td>US</td>\n",
              "      <td>2020-02-24 23:33:02</td>\n",
              "      <td>0.0</td>\n",
              "      <td>0.0</td>\n",
              "      <td>0.0</td>\n",
              "    </tr>\n",
              "    <tr>\n",
              "      <th>2349</th>\n",
              "      <td>2350</td>\n",
              "      <td>2020-02-24</td>\n",
              "      <td>Omaha, NE (From Diamond Princess)</td>\n",
              "      <td>US</td>\n",
              "      <td>2020-02-24 23:33:02</td>\n",
              "      <td>0.0</td>\n",
              "      <td>0.0</td>\n",
              "      <td>0.0</td>\n",
              "    </tr>\n",
              "    <tr>\n",
              "      <th>2350</th>\n",
              "      <td>2351</td>\n",
              "      <td>2020-02-24</td>\n",
              "      <td>Travis, CA (From Diamond Princess)</td>\n",
              "      <td>US</td>\n",
              "      <td>2020-02-24 23:33:02</td>\n",
              "      <td>0.0</td>\n",
              "      <td>0.0</td>\n",
              "      <td>0.0</td>\n",
              "    </tr>\n",
              "    <tr>\n",
              "      <th>2444</th>\n",
              "      <td>2445</td>\n",
              "      <td>2020-02-25</td>\n",
              "      <td>Lackland, TX (From Diamond Princess)</td>\n",
              "      <td>US</td>\n",
              "      <td>2020-02-24 23:33:02</td>\n",
              "      <td>0.0</td>\n",
              "      <td>0.0</td>\n",
              "      <td>0.0</td>\n",
              "    </tr>\n",
              "    <tr>\n",
              "      <th>2445</th>\n",
              "      <td>2446</td>\n",
              "      <td>2020-02-25</td>\n",
              "      <td>Omaha, NE (From Diamond Princess)</td>\n",
              "      <td>US</td>\n",
              "      <td>2020-02-24 23:33:02</td>\n",
              "      <td>0.0</td>\n",
              "      <td>0.0</td>\n",
              "      <td>0.0</td>\n",
              "    </tr>\n",
              "    <tr>\n",
              "      <th>...</th>\n",
              "      <td>...</td>\n",
              "      <td>...</td>\n",
              "      <td>...</td>\n",
              "      <td>...</td>\n",
              "      <td>...</td>\n",
              "      <td>...</td>\n",
              "      <td>...</td>\n",
              "      <td>...</td>\n",
              "    </tr>\n",
              "    <tr>\n",
              "      <th>303201</th>\n",
              "      <td>303202</td>\n",
              "      <td>2021-05-25</td>\n",
              "      <td>Recovered</td>\n",
              "      <td>US</td>\n",
              "      <td>2021-05-26 04:20:35</td>\n",
              "      <td>0.0</td>\n",
              "      <td>0.0</td>\n",
              "      <td>0.0</td>\n",
              "    </tr>\n",
              "    <tr>\n",
              "      <th>303966</th>\n",
              "      <td>303967</td>\n",
              "      <td>2021-05-26</td>\n",
              "      <td>Recovered</td>\n",
              "      <td>US</td>\n",
              "      <td>2021-05-27 04:20:59</td>\n",
              "      <td>0.0</td>\n",
              "      <td>0.0</td>\n",
              "      <td>0.0</td>\n",
              "    </tr>\n",
              "    <tr>\n",
              "      <th>304731</th>\n",
              "      <td>304732</td>\n",
              "      <td>2021-05-27</td>\n",
              "      <td>Recovered</td>\n",
              "      <td>US</td>\n",
              "      <td>2021-05-28 04:20:36</td>\n",
              "      <td>0.0</td>\n",
              "      <td>0.0</td>\n",
              "      <td>0.0</td>\n",
              "    </tr>\n",
              "    <tr>\n",
              "      <th>305496</th>\n",
              "      <td>305497</td>\n",
              "      <td>2021-05-28</td>\n",
              "      <td>Recovered</td>\n",
              "      <td>US</td>\n",
              "      <td>2021-05-29 04:20:41</td>\n",
              "      <td>0.0</td>\n",
              "      <td>0.0</td>\n",
              "      <td>0.0</td>\n",
              "    </tr>\n",
              "    <tr>\n",
              "      <th>306261</th>\n",
              "      <td>306262</td>\n",
              "      <td>2021-05-29</td>\n",
              "      <td>Recovered</td>\n",
              "      <td>US</td>\n",
              "      <td>2021-05-30 04:20:55</td>\n",
              "      <td>0.0</td>\n",
              "      <td>0.0</td>\n",
              "      <td>0.0</td>\n",
              "    </tr>\n",
              "  </tbody>\n",
              "</table>\n",
              "<p>526 rows × 8 columns</p>\n",
              "</div>"
            ],
            "text/plain": [
              "           SNo ObservationDate  ... Deaths Recovered\n",
              "2348      2349      2020-02-24  ...    0.0       0.0\n",
              "2349      2350      2020-02-24  ...    0.0       0.0\n",
              "2350      2351      2020-02-24  ...    0.0       0.0\n",
              "2444      2445      2020-02-25  ...    0.0       0.0\n",
              "2445      2446      2020-02-25  ...    0.0       0.0\n",
              "...        ...             ...  ...    ...       ...\n",
              "303201  303202      2021-05-25  ...    0.0       0.0\n",
              "303966  303967      2021-05-26  ...    0.0       0.0\n",
              "304731  304732      2021-05-27  ...    0.0       0.0\n",
              "305496  305497      2021-05-28  ...    0.0       0.0\n",
              "306261  306262      2021-05-29  ...    0.0       0.0\n",
              "\n",
              "[526 rows x 8 columns]"
            ]
          },
          "metadata": {
            "tags": []
          },
          "execution_count": 3
        }
      ]
    },
    {
      "cell_type": "code",
      "metadata": {
        "id": "hRk1Sa6J90dG",
        "colab": {
          "base_uri": "https://localhost:8080/",
          "height": 597
        },
        "outputId": "929b970a-6583-49f1-8687-a5290ca96c14"
      },
      "source": [
        "#gating india data for doing  tableu part\n",
        "df_x = df[df['Country/Region'] == 'India']\n",
        "df_x.head()\n",
        "df_x.to_csv('india_data.csv',index=False)\n",
        "import numpy as np\n",
        "np.min(df_x['Confirmed'])\n",
        "df_x.loc[df['Confirmed'] == 0.0]"
      ],
      "execution_count": null,
      "outputs": [
        {
          "output_type": "execute_result",
          "data": {
            "text/html": [
              "<div>\n",
              "<style scoped>\n",
              "    .dataframe tbody tr th:only-of-type {\n",
              "        vertical-align: middle;\n",
              "    }\n",
              "\n",
              "    .dataframe tbody tr th {\n",
              "        vertical-align: top;\n",
              "    }\n",
              "\n",
              "    .dataframe thead th {\n",
              "        text-align: right;\n",
              "    }\n",
              "</style>\n",
              "<table border=\"1\" class=\"dataframe\">\n",
              "  <thead>\n",
              "    <tr style=\"text-align: right;\">\n",
              "      <th></th>\n",
              "      <th>SNo</th>\n",
              "      <th>ObservationDate</th>\n",
              "      <th>Province/State</th>\n",
              "      <th>Country/Region</th>\n",
              "      <th>Last Update</th>\n",
              "      <th>Confirmed</th>\n",
              "      <th>Deaths</th>\n",
              "      <th>Recovered</th>\n",
              "    </tr>\n",
              "  </thead>\n",
              "  <tbody>\n",
              "    <tr>\n",
              "      <th>74333</th>\n",
              "      <td>74334</td>\n",
              "      <td>2020-07-27</td>\n",
              "      <td>Unknown</td>\n",
              "      <td>India</td>\n",
              "      <td>2021-04-02 15:13:53</td>\n",
              "      <td>0.0</td>\n",
              "      <td>0.0</td>\n",
              "      <td>0.0</td>\n",
              "    </tr>\n",
              "    <tr>\n",
              "      <th>74821</th>\n",
              "      <td>74822</td>\n",
              "      <td>2020-07-28</td>\n",
              "      <td>Lakshadweep</td>\n",
              "      <td>India</td>\n",
              "      <td>2021-04-02 15:13:53</td>\n",
              "      <td>0.0</td>\n",
              "      <td>0.0</td>\n",
              "      <td>0.0</td>\n",
              "    </tr>\n",
              "    <tr>\n",
              "      <th>75080</th>\n",
              "      <td>75081</td>\n",
              "      <td>2020-07-28</td>\n",
              "      <td>Unknown</td>\n",
              "      <td>India</td>\n",
              "      <td>2021-04-02 15:13:53</td>\n",
              "      <td>0.0</td>\n",
              "      <td>0.0</td>\n",
              "      <td>0.0</td>\n",
              "    </tr>\n",
              "    <tr>\n",
              "      <th>75568</th>\n",
              "      <td>75569</td>\n",
              "      <td>2020-07-29</td>\n",
              "      <td>Lakshadweep</td>\n",
              "      <td>India</td>\n",
              "      <td>2021-04-02 15:13:53</td>\n",
              "      <td>0.0</td>\n",
              "      <td>0.0</td>\n",
              "      <td>0.0</td>\n",
              "    </tr>\n",
              "    <tr>\n",
              "      <th>75827</th>\n",
              "      <td>75828</td>\n",
              "      <td>2020-07-29</td>\n",
              "      <td>Unknown</td>\n",
              "      <td>India</td>\n",
              "      <td>2021-04-02 15:13:53</td>\n",
              "      <td>0.0</td>\n",
              "      <td>0.0</td>\n",
              "      <td>0.0</td>\n",
              "    </tr>\n",
              "    <tr>\n",
              "      <th>...</th>\n",
              "      <td>...</td>\n",
              "      <td>...</td>\n",
              "      <td>...</td>\n",
              "      <td>...</td>\n",
              "      <td>...</td>\n",
              "      <td>...</td>\n",
              "      <td>...</td>\n",
              "      <td>...</td>\n",
              "    </tr>\n",
              "    <tr>\n",
              "      <th>303306</th>\n",
              "      <td>303307</td>\n",
              "      <td>2021-05-25</td>\n",
              "      <td>Unknown</td>\n",
              "      <td>India</td>\n",
              "      <td>2021-05-26 04:20:35</td>\n",
              "      <td>0.0</td>\n",
              "      <td>0.0</td>\n",
              "      <td>0.0</td>\n",
              "    </tr>\n",
              "    <tr>\n",
              "      <th>304071</th>\n",
              "      <td>304072</td>\n",
              "      <td>2021-05-26</td>\n",
              "      <td>Unknown</td>\n",
              "      <td>India</td>\n",
              "      <td>2021-05-27 04:20:59</td>\n",
              "      <td>0.0</td>\n",
              "      <td>0.0</td>\n",
              "      <td>0.0</td>\n",
              "    </tr>\n",
              "    <tr>\n",
              "      <th>304836</th>\n",
              "      <td>304837</td>\n",
              "      <td>2021-05-27</td>\n",
              "      <td>Unknown</td>\n",
              "      <td>India</td>\n",
              "      <td>2021-05-28 04:20:36</td>\n",
              "      <td>0.0</td>\n",
              "      <td>0.0</td>\n",
              "      <td>0.0</td>\n",
              "    </tr>\n",
              "    <tr>\n",
              "      <th>305601</th>\n",
              "      <td>305602</td>\n",
              "      <td>2021-05-28</td>\n",
              "      <td>Unknown</td>\n",
              "      <td>India</td>\n",
              "      <td>2021-05-29 04:20:41</td>\n",
              "      <td>0.0</td>\n",
              "      <td>0.0</td>\n",
              "      <td>0.0</td>\n",
              "    </tr>\n",
              "    <tr>\n",
              "      <th>306366</th>\n",
              "      <td>306367</td>\n",
              "      <td>2021-05-29</td>\n",
              "      <td>Unknown</td>\n",
              "      <td>India</td>\n",
              "      <td>2021-05-30 04:20:55</td>\n",
              "      <td>0.0</td>\n",
              "      <td>0.0</td>\n",
              "      <td>0.0</td>\n",
              "    </tr>\n",
              "  </tbody>\n",
              "</table>\n",
              "<p>482 rows × 8 columns</p>\n",
              "</div>"
            ],
            "text/plain": [
              "           SNo ObservationDate Province/State  ... Confirmed Deaths  Recovered\n",
              "74333    74334      2020-07-27        Unknown  ...       0.0    0.0        0.0\n",
              "74821    74822      2020-07-28    Lakshadweep  ...       0.0    0.0        0.0\n",
              "75080    75081      2020-07-28        Unknown  ...       0.0    0.0        0.0\n",
              "75568    75569      2020-07-29    Lakshadweep  ...       0.0    0.0        0.0\n",
              "75827    75828      2020-07-29        Unknown  ...       0.0    0.0        0.0\n",
              "...        ...             ...            ...  ...       ...    ...        ...\n",
              "303306  303307      2021-05-25        Unknown  ...       0.0    0.0        0.0\n",
              "304071  304072      2021-05-26        Unknown  ...       0.0    0.0        0.0\n",
              "304836  304837      2021-05-27        Unknown  ...       0.0    0.0        0.0\n",
              "305601  305602      2021-05-28        Unknown  ...       0.0    0.0        0.0\n",
              "306366  306367      2021-05-29        Unknown  ...       0.0    0.0        0.0\n",
              "\n",
              "[482 rows x 8 columns]"
            ]
          },
          "metadata": {
            "tags": []
          },
          "execution_count": 3
        }
      ]
    },
    {
      "cell_type": "code",
      "metadata": {
        "id": "4EmWZ4jZw8uP",
        "colab": {
          "base_uri": "https://localhost:8080/",
          "height": 206
        },
        "outputId": "ce92ea9e-9036-41a7-f821-a5e241fd6efa"
      },
      "source": [
        "\n",
        "df = df.drop( ['SNo']  ,axis = 1)\n",
        "df.head()\n"
      ],
      "execution_count": null,
      "outputs": [
        {
          "output_type": "execute_result",
          "data": {
            "text/html": [
              "<div>\n",
              "<style scoped>\n",
              "    .dataframe tbody tr th:only-of-type {\n",
              "        vertical-align: middle;\n",
              "    }\n",
              "\n",
              "    .dataframe tbody tr th {\n",
              "        vertical-align: top;\n",
              "    }\n",
              "\n",
              "    .dataframe thead th {\n",
              "        text-align: right;\n",
              "    }\n",
              "</style>\n",
              "<table border=\"1\" class=\"dataframe\">\n",
              "  <thead>\n",
              "    <tr style=\"text-align: right;\">\n",
              "      <th></th>\n",
              "      <th>ObservationDate</th>\n",
              "      <th>Province/State</th>\n",
              "      <th>Country/Region</th>\n",
              "      <th>Last Update</th>\n",
              "      <th>Confirmed</th>\n",
              "      <th>Deaths</th>\n",
              "      <th>Recovered</th>\n",
              "    </tr>\n",
              "  </thead>\n",
              "  <tbody>\n",
              "    <tr>\n",
              "      <th>0</th>\n",
              "      <td>2020-01-22</td>\n",
              "      <td>Anhui</td>\n",
              "      <td>Mainland China</td>\n",
              "      <td>2020-01-22 17:00:00</td>\n",
              "      <td>1.0</td>\n",
              "      <td>0.0</td>\n",
              "      <td>0.0</td>\n",
              "    </tr>\n",
              "    <tr>\n",
              "      <th>1</th>\n",
              "      <td>2020-01-22</td>\n",
              "      <td>Beijing</td>\n",
              "      <td>Mainland China</td>\n",
              "      <td>2020-01-22 17:00:00</td>\n",
              "      <td>14.0</td>\n",
              "      <td>0.0</td>\n",
              "      <td>0.0</td>\n",
              "    </tr>\n",
              "    <tr>\n",
              "      <th>2</th>\n",
              "      <td>2020-01-22</td>\n",
              "      <td>Chongqing</td>\n",
              "      <td>Mainland China</td>\n",
              "      <td>2020-01-22 17:00:00</td>\n",
              "      <td>6.0</td>\n",
              "      <td>0.0</td>\n",
              "      <td>0.0</td>\n",
              "    </tr>\n",
              "    <tr>\n",
              "      <th>3</th>\n",
              "      <td>2020-01-22</td>\n",
              "      <td>Fujian</td>\n",
              "      <td>Mainland China</td>\n",
              "      <td>2020-01-22 17:00:00</td>\n",
              "      <td>1.0</td>\n",
              "      <td>0.0</td>\n",
              "      <td>0.0</td>\n",
              "    </tr>\n",
              "    <tr>\n",
              "      <th>4</th>\n",
              "      <td>2020-01-22</td>\n",
              "      <td>Gansu</td>\n",
              "      <td>Mainland China</td>\n",
              "      <td>2020-01-22 17:00:00</td>\n",
              "      <td>0.0</td>\n",
              "      <td>0.0</td>\n",
              "      <td>0.0</td>\n",
              "    </tr>\n",
              "  </tbody>\n",
              "</table>\n",
              "</div>"
            ],
            "text/plain": [
              "  ObservationDate Province/State  Country/Region  ... Confirmed  Deaths  Recovered\n",
              "0      2020-01-22          Anhui  Mainland China  ...       1.0     0.0        0.0\n",
              "1      2020-01-22        Beijing  Mainland China  ...      14.0     0.0        0.0\n",
              "2      2020-01-22      Chongqing  Mainland China  ...       6.0     0.0        0.0\n",
              "3      2020-01-22         Fujian  Mainland China  ...       1.0     0.0        0.0\n",
              "4      2020-01-22          Gansu  Mainland China  ...       0.0     0.0        0.0\n",
              "\n",
              "[5 rows x 7 columns]"
            ]
          },
          "metadata": {
            "tags": []
          },
          "execution_count": 4
        }
      ]
    },
    {
      "cell_type": "markdown",
      "metadata": {
        "id": "YKKpSU-BtzBg"
      },
      "source": [
        "##=> ***NOW WE ARE PLOTING THE GRAPH OF DATA USING MATPLOTLIB***\n"
      ]
    },
    {
      "cell_type": "code",
      "metadata": {
        "id": "53E-Rn6-tzBh"
      },
      "source": [
        "import matplotlib.pyplot as plt\n",
        "plt.figure(figsize=(20,5))\n",
        "\n",
        "\n",
        "plt.plot(df['ObservationDate'].sort_values() , df['Deaths'] , color='r')"
      ],
      "execution_count": null,
      "outputs": []
    },
    {
      "cell_type": "code",
      "metadata": {
        "id": "7skhFzcWtzBl"
      },
      "source": [
        "import matplotlib.pyplot as plt\n",
        "plt.figure(figsize=(20,5))\n",
        "plt.plot(df['ObservationDate'].sort_values() , df['Recovered'] , color='g')"
      ],
      "execution_count": null,
      "outputs": []
    },
    {
      "cell_type": "code",
      "metadata": {
        "id": "p4whrhDG4l1f"
      },
      "source": [
        "import matplotlib.pyplot as plt\n",
        "plt.figure(figsize=(20,5))\n",
        "\n",
        "plt.plot(df['ObservationDate'].sort_values() , df['Confirmed'] , color= 'b')\n"
      ],
      "execution_count": null,
      "outputs": []
    },
    {
      "cell_type": "markdown",
      "metadata": {
        "id": "zSY1V4JvUkJ3"
      },
      "source": [
        "##=> ***NOW WE ARE DOING THE FORCASTING FOR CONFIRMED CASES***\n"
      ]
    },
    {
      "cell_type": "code",
      "metadata": {
        "id": "Q-eQG5jAUTsp",
        "colab": {
          "base_uri": "https://localhost:8080/",
          "height": 423
        },
        "outputId": "ee709238-798d-459c-f6ef-77af7ee83fd4"
      },
      "source": [
        "df1 = df.iloc[:,[0,4]]\n",
        "df1"
      ],
      "execution_count": null,
      "outputs": [
        {
          "output_type": "execute_result",
          "data": {
            "text/html": [
              "<div>\n",
              "<style scoped>\n",
              "    .dataframe tbody tr th:only-of-type {\n",
              "        vertical-align: middle;\n",
              "    }\n",
              "\n",
              "    .dataframe tbody tr th {\n",
              "        vertical-align: top;\n",
              "    }\n",
              "\n",
              "    .dataframe thead th {\n",
              "        text-align: right;\n",
              "    }\n",
              "</style>\n",
              "<table border=\"1\" class=\"dataframe\">\n",
              "  <thead>\n",
              "    <tr style=\"text-align: right;\">\n",
              "      <th></th>\n",
              "      <th>ObservationDate</th>\n",
              "      <th>Confirmed</th>\n",
              "    </tr>\n",
              "  </thead>\n",
              "  <tbody>\n",
              "    <tr>\n",
              "      <th>0</th>\n",
              "      <td>2020-01-22</td>\n",
              "      <td>1.0</td>\n",
              "    </tr>\n",
              "    <tr>\n",
              "      <th>1</th>\n",
              "      <td>2020-01-22</td>\n",
              "      <td>14.0</td>\n",
              "    </tr>\n",
              "    <tr>\n",
              "      <th>2</th>\n",
              "      <td>2020-01-22</td>\n",
              "      <td>6.0</td>\n",
              "    </tr>\n",
              "    <tr>\n",
              "      <th>3</th>\n",
              "      <td>2020-01-22</td>\n",
              "      <td>1.0</td>\n",
              "    </tr>\n",
              "    <tr>\n",
              "      <th>4</th>\n",
              "      <td>2020-01-22</td>\n",
              "      <td>0.0</td>\n",
              "    </tr>\n",
              "    <tr>\n",
              "      <th>...</th>\n",
              "      <td>...</td>\n",
              "      <td>...</td>\n",
              "    </tr>\n",
              "    <tr>\n",
              "      <th>306424</th>\n",
              "      <td>2021-05-29</td>\n",
              "      <td>102641.0</td>\n",
              "    </tr>\n",
              "    <tr>\n",
              "      <th>306425</th>\n",
              "      <td>2021-05-29</td>\n",
              "      <td>29147.0</td>\n",
              "    </tr>\n",
              "    <tr>\n",
              "      <th>306426</th>\n",
              "      <td>2021-05-29</td>\n",
              "      <td>1364.0</td>\n",
              "    </tr>\n",
              "    <tr>\n",
              "      <th>306427</th>\n",
              "      <td>2021-05-29</td>\n",
              "      <td>87550.0</td>\n",
              "    </tr>\n",
              "    <tr>\n",
              "      <th>306428</th>\n",
              "      <td>2021-05-29</td>\n",
              "      <td>391559.0</td>\n",
              "    </tr>\n",
              "  </tbody>\n",
              "</table>\n",
              "<p>306429 rows × 2 columns</p>\n",
              "</div>"
            ],
            "text/plain": [
              "       ObservationDate  Confirmed\n",
              "0           2020-01-22        1.0\n",
              "1           2020-01-22       14.0\n",
              "2           2020-01-22        6.0\n",
              "3           2020-01-22        1.0\n",
              "4           2020-01-22        0.0\n",
              "...                ...        ...\n",
              "306424      2021-05-29   102641.0\n",
              "306425      2021-05-29    29147.0\n",
              "306426      2021-05-29     1364.0\n",
              "306427      2021-05-29    87550.0\n",
              "306428      2021-05-29   391559.0\n",
              "\n",
              "[306429 rows x 2 columns]"
            ]
          },
          "metadata": {
            "tags": []
          },
          "execution_count": 7
        }
      ]
    },
    {
      "cell_type": "code",
      "metadata": {
        "id": "X0H7jvAlSjiz"
      },
      "source": [
        "df1 = df1.rename(columns ={'Confirmed':'y','ObservationDate':'ds'})"
      ],
      "execution_count": null,
      "outputs": []
    },
    {
      "cell_type": "code",
      "metadata": {
        "id": "jOWZ9Fi0Jt0e"
      },
      "source": [
        "from fbprophet import Prophet\n",
        "#dir(Prophet)\n",
        "model = Prophet(interval_width=0.95 ,daily_seasonality=True,yearly_seasonality=True)\n",
        "model.fit(df1)\n",
        "model.component_modes\n",
        "future_dates = model.make_future_dataframe(periods=30,freq='D',include_history=True)\n",
        "prediction = model.predict(future_dates)\n",
        "#prediction.head()\n",
        "plot1 = model.plot(prediction[['ds','yhat_lower','trend','yhat_upper','yhat']])\n"
      ],
      "execution_count": null,
      "outputs": []
    },
    {
      "cell_type": "code",
      "metadata": {
        "id": "hmDr_eISWPRh"
      },
      "source": [
        "plot2 = model.plot_components(prediction)"
      ],
      "execution_count": null,
      "outputs": []
    },
    {
      "cell_type": "markdown",
      "metadata": {
        "id": "ukDLQCX7XF21"
      },
      "source": [
        "=> ***now we are doing cross valition of our data to find out how much error are occers in our forcating data***"
      ]
    },
    {
      "cell_type": "code",
      "metadata": {
        "id": "pZsBolDIvp9l"
      },
      "source": [
        "#cross validation \n",
        "#we have a data from 2020-01 to 2021-06\n",
        "#2020-01 to 2020-09 - training part\n",
        "#2020-09 to 2021-06 - testing part\n",
        "#future data is 30 day our - validation"
      ],
      "execution_count": null,
      "outputs": []
    },
    {
      "cell_type": "code",
      "metadata": {
        "colab": {
          "base_uri": "https://localhost:8080/"
        },
        "id": "81xbpYsT0TUo",
        "outputId": "78e4076a-6b3c-452b-c3b8-e9362d316caf"
      },
      "source": [
        "df1['ds'].nunique()"
      ],
      "execution_count": null,
      "outputs": [
        {
          "output_type": "execute_result",
          "data": {
            "text/plain": [
              "494"
            ]
          },
          "metadata": {
            "tags": []
          },
          "execution_count": 199
        }
      ]
    },
    {
      "cell_type": "code",
      "metadata": {
        "colab": {
          "base_uri": "https://localhost:8080/",
          "height": 101,
          "referenced_widgets": [
            "bcf91b0726264d9e9d9e1322a090fccc",
            "f7d8c0c7ee5a42dea2553fa023eac58d",
            "500df00f7ed64a18893c89cb03970ea3",
            "c601d523be1a4a6885b5373d0b1bfb90",
            "03edb43766b341dca92b4823d7d8c36d",
            "cb091e9d31ef452886c24d11325ffe96",
            "85511b9d53f34d639b231c9296f8d97b",
            "b194a423cf9e486c8f7572c411a8aac3"
          ]
        },
        "id": "Gw8bHBUzzVCW",
        "outputId": "98078442-4953-4d01-c68b-556893b8ef57"
      },
      "source": [
        "from fbprophet.diagnostics import cross_validation\n",
        "df_cv = cross_validation(model,initial='200 days' ,period='15 days' ,horizon='30 days')\n",
        "df_cv.head()\n",
        "df_cv.shape"
      ],
      "execution_count": null,
      "outputs": [
        {
          "output_type": "stream",
          "text": [
            "INFO:fbprophet:Making 18 forecasts with cutoffs between 2020-08-17 00:00:00 and 2021-04-29 00:00:00\n"
          ],
          "name": "stderr"
        },
        {
          "output_type": "display_data",
          "data": {
            "application/vnd.jupyter.widget-view+json": {
              "model_id": "bcf91b0726264d9e9d9e1322a090fccc",
              "version_minor": 0,
              "version_major": 2
            },
            "text/plain": [
              "HBox(children=(FloatProgress(value=0.0, max=18.0), HTML(value='')))"
            ]
          },
          "metadata": {
            "tags": []
          }
        },
        {
          "output_type": "stream",
          "text": [
            "\n"
          ],
          "name": "stdout"
        },
        {
          "output_type": "execute_result",
          "data": {
            "text/plain": [
              "(410049, 6)"
            ]
          },
          "metadata": {
            "tags": []
          },
          "execution_count": 200
        }
      ]
    },
    {
      "cell_type": "code",
      "metadata": {
        "id": "x1wqPlc8zbb7"
      },
      "source": [
        "from fbprophet.diagnostics import performance_metrics\n",
        "df_p = performance_metrics(df_cv)\n",
        "df_p.head()"
      ],
      "execution_count": null,
      "outputs": []
    },
    {
      "cell_type": "code",
      "metadata": {
        "id": "anTrf5ZeBT07"
      },
      "source": [
        "from fbprophet.plot import plot_cross_validation_metric\n",
        "fig = plot_cross_validation_metric(df_cv ,metric='mse')\n",
        "fig = plot_cross_validation_metric(df_cv ,metric='mdape')\n",
        "fig = plot_cross_validation_metric(df_cv ,metric='rmse')\n",
        "fig = plot_cross_validation_metric(df_cv ,metric='coverage')\n"
      ],
      "execution_count": null,
      "outputs": []
    },
    {
      "cell_type": "markdown",
      "metadata": {
        "id": "NgRzSeQIoXYC"
      },
      "source": [
        "***=>•Which country/state is having highest number of cases?***\n",
        "\n",
        "***run*** this shell : "
      ]
    },
    {
      "cell_type": "code",
      "metadata": {
        "id": "ReKPw2QJYDyM",
        "colab": {
          "base_uri": "https://localhost:8080/",
          "height": 98
        },
        "outputId": "70e559e2-5e56-4fb0-b8a9-733af1423a59"
      },
      "source": [
        "import numpy as np\n",
        "array = np.unique(df['Country/Region'])\n",
        "df['Country/Region'].value_counts()\n",
        "list1 = []\n",
        "list2 = []\n",
        "for i in range(0,229):\n",
        "  df_count = df[df['Country/Region'] == array[i]]\n",
        "  sum = df_count['Confirmed'].sum()\n",
        "  list1.append(sum)\n",
        "  list2.append(array[i])\n",
        "data_cnf = pd.DataFrame(list(zip(list2,list1)), columns=['country','confirmedcases'])\n",
        "data_cnf.head()\n",
        "data_cnf.to_csv('confiremed_cases.csv',index=False)\n",
        "print(\"THE HIGHEST CONFIREMED_CASES ARE : {0} \".format(np.max(data_cnf['confirmedcases'])))\n",
        "data_cnf.loc[data_cnf['confirmedcases'] == np.max(data_cnf['confirmedcases']) ]\n"
      ],
      "execution_count": null,
      "outputs": [
        {
          "output_type": "stream",
          "text": [
            "THE HIGHEST CONFIREMED_CASES ARE : 6049145667.0 \n"
          ],
          "name": "stdout"
        },
        {
          "output_type": "execute_result",
          "data": {
            "text/html": [
              "<div>\n",
              "<style scoped>\n",
              "    .dataframe tbody tr th:only-of-type {\n",
              "        vertical-align: middle;\n",
              "    }\n",
              "\n",
              "    .dataframe tbody tr th {\n",
              "        vertical-align: top;\n",
              "    }\n",
              "\n",
              "    .dataframe thead th {\n",
              "        text-align: right;\n",
              "    }\n",
              "</style>\n",
              "<table border=\"1\" class=\"dataframe\">\n",
              "  <thead>\n",
              "    <tr style=\"text-align: right;\">\n",
              "      <th></th>\n",
              "      <th>country</th>\n",
              "      <th>confirmedcases</th>\n",
              "    </tr>\n",
              "  </thead>\n",
              "  <tbody>\n",
              "    <tr>\n",
              "      <th>214</th>\n",
              "      <td>US</td>\n",
              "      <td>6.049146e+09</td>\n",
              "    </tr>\n",
              "  </tbody>\n",
              "</table>\n",
              "</div>"
            ],
            "text/plain": [
              "    country  confirmedcases\n",
              "214      US    6.049146e+09"
            ]
          },
          "metadata": {
            "tags": []
          },
          "execution_count": 14
        }
      ]
    },
    {
      "cell_type": "markdown",
      "metadata": {
        "id": "1ZUsQFNJquMj"
      },
      "source": [
        "**=> •Which country/state is having lowest number of cases?**\n",
        "\n",
        "***run this shell : ***"
      ]
    },
    {
      "cell_type": "code",
      "metadata": {
        "colab": {
          "base_uri": "https://localhost:8080/",
          "height": 98
        },
        "id": "pTKQCtEXqcwQ",
        "outputId": "375a2443-f3d4-4a87-d36b-5f898edc0031"
      },
      "source": [
        "print(\"THE LOWEST CONFIREMED_CASES ARE : {0} \".format(np.min(data_cnf['confirmedcases'])))\n",
        "data_cnf.loc[data_cnf['confirmedcases'] == np.min(data_cnf['confirmedcases']) ]"
      ],
      "execution_count": null,
      "outputs": [
        {
          "output_type": "stream",
          "text": [
            "THE LOWEST CONFIREMED_CASES ARE : 0.0 \n"
          ],
          "name": "stdout"
        },
        {
          "output_type": "execute_result",
          "data": {
            "text/html": [
              "<div>\n",
              "<style scoped>\n",
              "    .dataframe tbody tr th:only-of-type {\n",
              "        vertical-align: middle;\n",
              "    }\n",
              "\n",
              "    .dataframe tbody tr th {\n",
              "        vertical-align: top;\n",
              "    }\n",
              "\n",
              "    .dataframe thead th {\n",
              "        text-align: right;\n",
              "    }\n",
              "</style>\n",
              "<table border=\"1\" class=\"dataframe\">\n",
              "  <thead>\n",
              "    <tr style=\"text-align: right;\">\n",
              "      <th></th>\n",
              "      <th>country</th>\n",
              "      <th>confirmedcases</th>\n",
              "    </tr>\n",
              "  </thead>\n",
              "  <tbody>\n",
              "    <tr>\n",
              "      <th>43</th>\n",
              "      <td>China</td>\n",
              "      <td>0.0</td>\n",
              "    </tr>\n",
              "  </tbody>\n",
              "</table>\n",
              "</div>"
            ],
            "text/plain": [
              "   country  confirmedcases\n",
              "43   China             0.0"
            ]
          },
          "metadata": {
            "tags": []
          },
          "execution_count": 15
        }
      ]
    },
    {
      "cell_type": "markdown",
      "metadata": {
        "id": "CJcieK_cuNgU"
      },
      "source": [
        "# **NOW WE ARE FORCASTING FOR TOTAL DEATHS** "
      ]
    },
    {
      "cell_type": "code",
      "metadata": {
        "id": "V4Gxdi5Suj7u"
      },
      "source": [
        "df2 = df.iloc[:,[0,5]]\n",
        "df2"
      ],
      "execution_count": null,
      "outputs": []
    },
    {
      "cell_type": "code",
      "metadata": {
        "id": "Tk0WaFQhvX-c"
      },
      "source": [
        "df2 = df2.rename(columns ={'Deaths':'y','ObservationDate':'ds'})"
      ],
      "execution_count": null,
      "outputs": []
    },
    {
      "cell_type": "code",
      "metadata": {
        "colab": {
          "base_uri": "https://localhost:8080/",
          "height": 441
        },
        "id": "AsABeU69vAxU",
        "outputId": "901505d9-20a2-45ee-eaeb-1450e7b140d1"
      },
      "source": [
        "from fbprophet import Prophet\n",
        "#dir(Prophet)\n",
        "model = Prophet(interval_width=0.95,daily_seasonality=True,yearly_seasonality=True)\n",
        "model.fit(df2)\n",
        "model.component_modes\n",
        "future_dates = model.make_future_dataframe(periods=30,freq='D',include_history=True)\n",
        "prediction = model.predict(future_dates)\n",
        "#prediction.head()\n",
        "plot3 = model.plot(prediction[['ds','yhat_lower','trend','yhat_upper','yhat']])\n"
      ],
      "execution_count": null,
      "outputs": [
        {
          "output_type": "display_data",
          "data": {
            "image/png": "[encoded data removed]",
            "text/plain": [
              "<Figure size 720x432 with 1 Axes>"
            ]
          },
          "metadata": {
            "tags": []
          }
        }
      ]
    },
    {
      "cell_type": "code",
      "metadata": {
        "colab": {
          "base_uri": "https://localhost:8080/",
          "height": 873
        },
        "id": "pwjhFyf5w_52",
        "outputId": "1a214970-19a8-46a6-df3b-92e1b648ccee"
      },
      "source": [
        "plot4 = model.plot_components(prediction)"
      ],
      "execution_count": null,
      "outputs": [
        {
          "output_type": "display_data",
          "data": {
            "image/png": "[encoded data removed]",
            "text/plain": [
              "<Figure size 648x864 with 4 Axes>"
            ]
          },
          "metadata": {
            "tags": []
          }
        }
      ]
    },
    {
      "cell_type": "markdown",
      "metadata": {
        "id": "Ld22cQCa2ICD"
      },
      "source": [
        "**=>•Which country/state is having highest number of deaths?**"
      ]
    },
    {
      "cell_type": "code",
      "metadata": {
        "colab": {
          "base_uri": "https://localhost:8080/",
          "height": 98
        },
        "id": "7fuW9x3dzKty",
        "outputId": "5e68af2f-5c89-44f7-f0f7-fe88986938cf"
      },
      "source": [
        "import numpy as np\n",
        "array = np.unique(df['Country/Region'])\n",
        "df['Country/Region'].value_counts()\n",
        "list3 = []\n",
        "list4 = []\n",
        "for i in range(0,229):\n",
        "  df_death = df[df['Country/Region'] == array[i]]\n",
        "  sum = df_death['Deaths'].sum()\n",
        "  list3.append(sum)\n",
        "  list4.append(array[i])\n",
        "data_ded = pd.DataFrame(list(zip(list4,list3)), columns=['country','Deaths'])\n",
        "data_ded.head()\n",
        "data_ded.to_csv('total_deaths.csv',index=False)\n",
        "print(\"THE HIGHEST Deaths  ARE : {0} \".format(np.max(data_ded['Deaths'])))\n",
        "data_ded.loc[data_ded['Deaths'] == np.max(data_ded['Deaths']) ]\n"
      ],
      "execution_count": null,
      "outputs": [
        {
          "output_type": "stream",
          "text": [
            "THE HIGHEST Deaths  ARE : 123303762.0 \n"
          ],
          "name": "stdout"
        },
        {
          "output_type": "execute_result",
          "data": {
            "text/html": [
              "<div>\n",
              "<style scoped>\n",
              "    .dataframe tbody tr th:only-of-type {\n",
              "        vertical-align: middle;\n",
              "    }\n",
              "\n",
              "    .dataframe tbody tr th {\n",
              "        vertical-align: top;\n",
              "    }\n",
              "\n",
              "    .dataframe thead th {\n",
              "        text-align: right;\n",
              "    }\n",
              "</style>\n",
              "<table border=\"1\" class=\"dataframe\">\n",
              "  <thead>\n",
              "    <tr style=\"text-align: right;\">\n",
              "      <th></th>\n",
              "      <th>country</th>\n",
              "      <th>Deaths</th>\n",
              "    </tr>\n",
              "  </thead>\n",
              "  <tbody>\n",
              "    <tr>\n",
              "      <th>214</th>\n",
              "      <td>US</td>\n",
              "      <td>123303762.0</td>\n",
              "    </tr>\n",
              "  </tbody>\n",
              "</table>\n",
              "</div>"
            ],
            "text/plain": [
              "    country       Deaths\n",
              "214      US  123303762.0"
            ]
          },
          "metadata": {
            "tags": []
          },
          "execution_count": 25
        }
      ]
    },
    {
      "cell_type": "markdown",
      "metadata": {
        "id": "k0xR9zd811uC"
      },
      "source": [
        "**=>•Which country/state is having lowest number of deaths?**"
      ]
    },
    {
      "cell_type": "code",
      "metadata": {
        "id": "fk8P2smk1hST"
      },
      "source": [
        "print(\"THE LOWEST DEATHS ARE : {0} \".format(np.min(data_ded['Deaths'])))\n",
        "data_ded.loc[data_ded['Deaths'] == np.min(data_ded['Deaths']) ]"
      ],
      "execution_count": null,
      "outputs": []
    },
    {
      "cell_type": "markdown",
      "metadata": {
        "id": "udv5hyRs3EEZ"
      },
      "source": [
        "# ***here we are forcating the recoverd cases***"
      ]
    },
    {
      "cell_type": "code",
      "metadata": {
        "id": "GyuskKM53U5N"
      },
      "source": [
        "df3 = df.iloc[:,[0,6]]\n",
        "df3"
      ],
      "execution_count": null,
      "outputs": []
    },
    {
      "cell_type": "code",
      "metadata": {
        "id": "-BUNWEts3hrz"
      },
      "source": [
        "df3 = df3.rename(columns ={'Recovered':'y','ObservationDate':'ds'})"
      ],
      "execution_count": null,
      "outputs": []
    },
    {
      "cell_type": "code",
      "metadata": {
        "id": "zpH324Uy31MZ",
        "colab": {
          "base_uri": "https://localhost:8080/",
          "height": 441
        },
        "outputId": "d49fbe01-42f4-4b1e-9cd7-d496142a47f2"
      },
      "source": [
        "from fbprophet import Prophet\n",
        "#dir(Prophet)\n",
        "model = Prophet(interval_width=0.95,daily_seasonality=True , yearly_seasonality=True)\n",
        "model.fit(df3)\n",
        "model.component_modes\n",
        "future_dates = model.make_future_dataframe(periods=30,freq='D',include_history=True)\n",
        "prediction = model.predict(future_dates)\n",
        "#prediction.head()\n",
        "plot6 = model.plot(prediction[['ds','yhat_lower','trend','yhat_upper','yhat']])\n"
      ],
      "execution_count": null,
      "outputs": [
        {
          "output_type": "display_data",
          "data": {
            "image/png": "[encoded data removed]",
            "text/plain": [
              "<Figure size 720x432 with 1 Axes>"
            ]
          },
          "metadata": {
            "tags": []
          }
        }
      ]
    },
    {
      "cell_type": "code",
      "metadata": {
        "id": "o5sXBSIw4B3E"
      },
      "source": [
        "plot5 = model.plot_components(prediction)"
      ],
      "execution_count": null,
      "outputs": []
    },
    {
      "cell_type": "markdown",
      "metadata": {
        "id": "A5c5dyVF6LsM"
      },
      "source": [
        "***=> which country/state is having highest people recoverd ***"
      ]
    },
    {
      "cell_type": "code",
      "metadata": {
        "colab": {
          "base_uri": "https://localhost:8080/",
          "height": 98
        },
        "id": "HhZvNry14Jy1",
        "outputId": "55900a17-68e6-4c76-cf45-57b3ec38c406"
      },
      "source": [
        "import numpy as np\n",
        "array = np.unique(df['Country/Region'])\n",
        "df['Country/Region'].value_counts()\n",
        "list5 = []\n",
        "list6 = []\n",
        "for i in range(0,229):\n",
        "  df_recov = df[df['Country/Region'] == array[i]]\n",
        "  sum = df_recov['Deaths'].sum()\n",
        "  list5.append(sum)\n",
        "  list6.append(array[i])\n",
        "data_rec = pd.DataFrame(list(zip(list6,list5)), columns=['country','recover'])\n",
        "data_rec.head()\n",
        "data_rec.to_csv('total_recover.csv',index=False)\n",
        "print(\"THE HIGHEST RECOVERD  ARE : {0} \".format(np.max(data_rec['recover'])))\n",
        "data_rec.loc[data_rec['recover'] == np.max(data_rec['recover']) ]\n"
      ],
      "execution_count": null,
      "outputs": [
        {
          "output_type": "stream",
          "text": [
            "THE HIGHEST RECOVERD  ARE : 123303762.0 \n"
          ],
          "name": "stdout"
        },
        {
          "output_type": "execute_result",
          "data": {
            "text/html": [
              "<div>\n",
              "<style scoped>\n",
              "    .dataframe tbody tr th:only-of-type {\n",
              "        vertical-align: middle;\n",
              "    }\n",
              "\n",
              "    .dataframe tbody tr th {\n",
              "        vertical-align: top;\n",
              "    }\n",
              "\n",
              "    .dataframe thead th {\n",
              "        text-align: right;\n",
              "    }\n",
              "</style>\n",
              "<table border=\"1\" class=\"dataframe\">\n",
              "  <thead>\n",
              "    <tr style=\"text-align: right;\">\n",
              "      <th></th>\n",
              "      <th>country</th>\n",
              "      <th>recover</th>\n",
              "    </tr>\n",
              "  </thead>\n",
              "  <tbody>\n",
              "    <tr>\n",
              "      <th>214</th>\n",
              "      <td>US</td>\n",
              "      <td>123303762.0</td>\n",
              "    </tr>\n",
              "  </tbody>\n",
              "</table>\n",
              "</div>"
            ],
            "text/plain": [
              "    country      recover\n",
              "214      US  123303762.0"
            ]
          },
          "metadata": {
            "tags": []
          },
          "execution_count": 5
        }
      ]
    },
    {
      "cell_type": "markdown",
      "metadata": {
        "id": "AZgWy4G464nW"
      },
      "source": [
        "***=> which country/state is having lowest people recoverd ***"
      ]
    },
    {
      "cell_type": "code",
      "metadata": {
        "id": "BVGDtf7k5S55",
        "colab": {
          "base_uri": "https://localhost:8080/",
          "height": 1000
        },
        "outputId": "316f4e91-df9e-4f8c-a112-bcc3ffa86eed"
      },
      "source": [
        "print(\"THE LOWEST recover ARE : {0} \".format(np.min(data_rec['recover'])))\n",
        "data_rec.loc[data_rec['recover'] == np.min(data_rec['recover'])]"
      ],
      "execution_count": null,
      "outputs": [
        {
          "output_type": "stream",
          "text": [
            "THE LOWEST recover ARE : 0.0 \n"
          ],
          "name": "stdout"
        },
        {
          "output_type": "execute_result",
          "data": {
            "text/html": [
              "<div>\n",
              "<style scoped>\n",
              "    .dataframe tbody tr th:only-of-type {\n",
              "        vertical-align: middle;\n",
              "    }\n",
              "\n",
              "    .dataframe tbody tr th {\n",
              "        vertical-align: top;\n",
              "    }\n",
              "\n",
              "    .dataframe thead th {\n",
              "        text-align: right;\n",
              "    }\n",
              "</style>\n",
              "<table border=\"1\" class=\"dataframe\">\n",
              "  <thead>\n",
              "    <tr style=\"text-align: right;\">\n",
              "      <th></th>\n",
              "      <th>country</th>\n",
              "      <th>recover</th>\n",
              "    </tr>\n",
              "  </thead>\n",
              "  <tbody>\n",
              "    <tr>\n",
              "      <th>0</th>\n",
              "      <td>Azerbaijan</td>\n",
              "      <td>0.0</td>\n",
              "    </tr>\n",
              "    <tr>\n",
              "      <th>1</th>\n",
              "      <td>('St. Martin',)</td>\n",
              "      <td>0.0</td>\n",
              "    </tr>\n",
              "    <tr>\n",
              "      <th>10</th>\n",
              "      <td>Aruba</td>\n",
              "      <td>0.0</td>\n",
              "    </tr>\n",
              "    <tr>\n",
              "      <th>15</th>\n",
              "      <td>Bahamas, The</td>\n",
              "      <td>0.0</td>\n",
              "    </tr>\n",
              "    <tr>\n",
              "      <th>37</th>\n",
              "      <td>Cape Verde</td>\n",
              "      <td>0.0</td>\n",
              "    </tr>\n",
              "    <tr>\n",
              "      <th>38</th>\n",
              "      <td>Cayman Islands</td>\n",
              "      <td>0.0</td>\n",
              "    </tr>\n",
              "    <tr>\n",
              "      <th>41</th>\n",
              "      <td>Channel Islands</td>\n",
              "      <td>0.0</td>\n",
              "    </tr>\n",
              "    <tr>\n",
              "      <th>43</th>\n",
              "      <td>China</td>\n",
              "      <td>0.0</td>\n",
              "    </tr>\n",
              "    <tr>\n",
              "      <th>51</th>\n",
              "      <td>Curacao</td>\n",
              "      <td>0.0</td>\n",
              "    </tr>\n",
              "    <tr>\n",
              "      <th>57</th>\n",
              "      <td>Dominica</td>\n",
              "      <td>0.0</td>\n",
              "    </tr>\n",
              "    <tr>\n",
              "      <th>59</th>\n",
              "      <td>East Timor</td>\n",
              "      <td>0.0</td>\n",
              "    </tr>\n",
              "    <tr>\n",
              "      <th>68</th>\n",
              "      <td>Faroe Islands</td>\n",
              "      <td>0.0</td>\n",
              "    </tr>\n",
              "    <tr>\n",
              "      <th>72</th>\n",
              "      <td>French Guiana</td>\n",
              "      <td>0.0</td>\n",
              "    </tr>\n",
              "    <tr>\n",
              "      <th>75</th>\n",
              "      <td>Gambia, The</td>\n",
              "      <td>0.0</td>\n",
              "    </tr>\n",
              "    <tr>\n",
              "      <th>79</th>\n",
              "      <td>Gibraltar</td>\n",
              "      <td>0.0</td>\n",
              "    </tr>\n",
              "    <tr>\n",
              "      <th>81</th>\n",
              "      <td>Greenland</td>\n",
              "      <td>0.0</td>\n",
              "    </tr>\n",
              "    <tr>\n",
              "      <th>83</th>\n",
              "      <td>Guadeloupe</td>\n",
              "      <td>0.0</td>\n",
              "    </tr>\n",
              "    <tr>\n",
              "      <th>84</th>\n",
              "      <td>Guam</td>\n",
              "      <td>0.0</td>\n",
              "    </tr>\n",
              "    <tr>\n",
              "      <th>86</th>\n",
              "      <td>Guernsey</td>\n",
              "      <td>0.0</td>\n",
              "    </tr>\n",
              "    <tr>\n",
              "      <th>91</th>\n",
              "      <td>Holy See</td>\n",
              "      <td>0.0</td>\n",
              "    </tr>\n",
              "    <tr>\n",
              "      <th>106</th>\n",
              "      <td>Jersey</td>\n",
              "      <td>0.0</td>\n",
              "    </tr>\n",
              "    <tr>\n",
              "      <th>110</th>\n",
              "      <td>Kiribati</td>\n",
              "      <td>0.0</td>\n",
              "    </tr>\n",
              "    <tr>\n",
              "      <th>124</th>\n",
              "      <td>Macau</td>\n",
              "      <td>0.0</td>\n",
              "    </tr>\n",
              "    <tr>\n",
              "      <th>132</th>\n",
              "      <td>Marshall Islands</td>\n",
              "      <td>0.0</td>\n",
              "    </tr>\n",
              "    <tr>\n",
              "      <th>136</th>\n",
              "      <td>Mayotte</td>\n",
              "      <td>0.0</td>\n",
              "    </tr>\n",
              "    <tr>\n",
              "      <th>138</th>\n",
              "      <td>Micronesia</td>\n",
              "      <td>0.0</td>\n",
              "    </tr>\n",
              "    <tr>\n",
              "      <th>152</th>\n",
              "      <td>North Ireland</td>\n",
              "      <td>0.0</td>\n",
              "    </tr>\n",
              "    <tr>\n",
              "      <th>158</th>\n",
              "      <td>Palestine</td>\n",
              "      <td>0.0</td>\n",
              "    </tr>\n",
              "    <tr>\n",
              "      <th>166</th>\n",
              "      <td>Puerto Rico</td>\n",
              "      <td>0.0</td>\n",
              "    </tr>\n",
              "    <tr>\n",
              "      <th>168</th>\n",
              "      <td>Republic of Ireland</td>\n",
              "      <td>0.0</td>\n",
              "    </tr>\n",
              "    <tr>\n",
              "      <th>169</th>\n",
              "      <td>Republic of the Congo</td>\n",
              "      <td>0.0</td>\n",
              "    </tr>\n",
              "    <tr>\n",
              "      <th>170</th>\n",
              "      <td>Reunion</td>\n",
              "      <td>0.0</td>\n",
              "    </tr>\n",
              "    <tr>\n",
              "      <th>174</th>\n",
              "      <td>Saint Barthelemy</td>\n",
              "      <td>0.0</td>\n",
              "    </tr>\n",
              "    <tr>\n",
              "      <th>175</th>\n",
              "      <td>Saint Kitts and Nevis</td>\n",
              "      <td>0.0</td>\n",
              "    </tr>\n",
              "    <tr>\n",
              "      <th>178</th>\n",
              "      <td>Samoa</td>\n",
              "      <td>0.0</td>\n",
              "    </tr>\n",
              "    <tr>\n",
              "      <th>189</th>\n",
              "      <td>Solomon Islands</td>\n",
              "      <td>0.0</td>\n",
              "    </tr>\n",
              "    <tr>\n",
              "      <th>196</th>\n",
              "      <td>St. Martin</td>\n",
              "      <td>0.0</td>\n",
              "    </tr>\n",
              "    <tr>\n",
              "      <th>206</th>\n",
              "      <td>The Bahamas</td>\n",
              "      <td>0.0</td>\n",
              "    </tr>\n",
              "    <tr>\n",
              "      <th>207</th>\n",
              "      <td>The Gambia</td>\n",
              "      <td>0.0</td>\n",
              "    </tr>\n",
              "    <tr>\n",
              "      <th>221</th>\n",
              "      <td>Vatican City</td>\n",
              "      <td>0.0</td>\n",
              "    </tr>\n",
              "    <tr>\n",
              "      <th>228</th>\n",
              "      <td>occupied Palestinian territory</td>\n",
              "      <td>0.0</td>\n",
              "    </tr>\n",
              "  </tbody>\n",
              "</table>\n",
              "</div>"
            ],
            "text/plain": [
              "                            country  recover\n",
              "0                        Azerbaijan      0.0\n",
              "1                   ('St. Martin',)      0.0\n",
              "10                            Aruba      0.0\n",
              "15                     Bahamas, The      0.0\n",
              "37                       Cape Verde      0.0\n",
              "38                   Cayman Islands      0.0\n",
              "41                  Channel Islands      0.0\n",
              "43                            China      0.0\n",
              "51                          Curacao      0.0\n",
              "57                         Dominica      0.0\n",
              "59                       East Timor      0.0\n",
              "68                    Faroe Islands      0.0\n",
              "72                    French Guiana      0.0\n",
              "75                      Gambia, The      0.0\n",
              "79                        Gibraltar      0.0\n",
              "81                        Greenland      0.0\n",
              "83                       Guadeloupe      0.0\n",
              "84                             Guam      0.0\n",
              "86                         Guernsey      0.0\n",
              "91                         Holy See      0.0\n",
              "106                          Jersey      0.0\n",
              "110                        Kiribati      0.0\n",
              "124                           Macau      0.0\n",
              "132                Marshall Islands      0.0\n",
              "136                         Mayotte      0.0\n",
              "138                      Micronesia      0.0\n",
              "152                   North Ireland      0.0\n",
              "158                       Palestine      0.0\n",
              "166                     Puerto Rico      0.0\n",
              "168             Republic of Ireland      0.0\n",
              "169           Republic of the Congo      0.0\n",
              "170                         Reunion      0.0\n",
              "174                Saint Barthelemy      0.0\n",
              "175           Saint Kitts and Nevis      0.0\n",
              "178                           Samoa      0.0\n",
              "189                 Solomon Islands      0.0\n",
              "196                      St. Martin      0.0\n",
              "206                     The Bahamas      0.0\n",
              "207                      The Gambia      0.0\n",
              "221                    Vatican City      0.0\n",
              "228  occupied Palestinian territory      0.0"
            ]
          },
          "metadata": {
            "tags": []
          },
          "execution_count": 6
        }
      ]
    }
  ]
}